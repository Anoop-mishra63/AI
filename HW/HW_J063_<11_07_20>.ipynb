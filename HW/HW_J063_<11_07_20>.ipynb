{
  "nbformat": 4,
  "nbformat_minor": 0,
  "metadata": {
    "colab": {
      "name": "HW_J063_<11/07/20>.ipynb",
      "provenance": [],
      "authorship_tag": "ABX9TyPvPBMTz5c4rbWw9sb1WA+D",
      "include_colab_link": true
    },
    "kernelspec": {
      "name": "python3",
      "display_name": "Python 3"
    }
  },
  "cells": [
    {
      "cell_type": "markdown",
      "metadata": {
        "id": "view-in-github",
        "colab_type": "text"
      },
      "source": [
        "<a href=\"https://colab.research.google.com/github/Anoop-mishra63/AI/blob/master/HW/HW_J063_%3C11_07_20%3E.ipynb\" target=\"_parent\"><img src=\"https://colab.research.google.com/assets/colab-badge.svg\" alt=\"Open In Colab\"/></a>"
      ]
    },
    {
      "cell_type": "code",
      "metadata": {
        "id": "XpN6vRH-tSkU",
        "colab_type": "code",
        "colab": {}
      },
      "source": [
        "import pandas as pd\n",
        "import matplotlib.pyplot as plt\n"
      ],
      "execution_count": 4,
      "outputs": []
    },
    {
      "cell_type": "code",
      "metadata": {
        "id": "i7XU8vbxoGsK",
        "colab_type": "code",
        "colab": {}
      },
      "source": [
        "# Create a custom class DataRead to read csv file using pandas\n",
        "# Create a custom function RowSelect within the class to select any 2 rows of the the the dataframe\n",
        "# Create a sub class of DataRead1 as  DataRead2  that has function for correlation plots (using any lib for correlation plot)\n",
        "# Within DataRead2 also create a function to override the custom function of DataRead1 RowSelect to select 3 rows"
      ],
      "execution_count": null,
      "outputs": []
    },
    {
      "cell_type": "code",
      "metadata": {
        "id": "IpgajfcH1Fw6",
        "colab_type": "code",
        "colab": {}
      },
      "source": [
        "class DataRead:\n",
        "  def __init__(self,file_name):\n",
        "    self.file_name = file_name\n",
        "    DataRead.df = pd.read_csv(file_name)\n",
        "  def RowSelect(self,x1,x2):\n",
        "    return(DataRead.df.iloc[x1,:],DataRead.df.iloc[x2,:])  \n"
      ],
      "execution_count": 41,
      "outputs": []
    },
    {
      "cell_type": "code",
      "metadata": {
        "id": "56Ttp8xllbr7",
        "colab_type": "code",
        "colab": {}
      },
      "source": [
        "class DataRead2(DataRead):\n",
        "  def plot(self):\n",
        "    plt.matshow(DataRead2.df.corr())\n",
        "    plt.show()\n",
        "  def RowSelect(self,x1,x2,x3):\n",
        "    return(DataRead.df.iloc[x1, : ],DataRead.df.iloc[x2, : ],DataRead.df.iloc[x3, : ])"
      ],
      "execution_count": 42,
      "outputs": []
    },
    {
      "cell_type": "code",
      "metadata": {
        "id": "SETujhgfsKfT",
        "colab_type": "code",
        "colab": {
          "base_uri": "https://localhost:8080/",
          "height": 638
        },
        "outputId": "eeffbdc3-3fa5-44ec-8ef7-7573f19c2b4d"
      },
      "source": [
        "a=DataRead('/content/sample_data/california_housing_test.csv')\n",
        "a.RowSelect(3,4)\n"
      ],
      "execution_count": 43,
      "outputs": [
        {
          "output_type": "execute_result",
          "data": {
            "text/plain": [
              "(longitude               -118.3600\n",
              " latitude                  33.8200\n",
              " housing_median_age        28.0000\n",
              " total_rooms               67.0000\n",
              " total_bedrooms            15.0000\n",
              " population                49.0000\n",
              " households                11.0000\n",
              " median_income              6.1359\n",
              " median_house_value    330000.0000\n",
              " Name: 3, dtype: float64, longitude              -119.6700\n",
              " latitude                 36.3300\n",
              " housing_median_age       19.0000\n",
              " total_rooms            1241.0000\n",
              " total_bedrooms          244.0000\n",
              " population              850.0000\n",
              " households              237.0000\n",
              " median_income             2.9375\n",
              " median_house_value    81700.0000\n",
              " Name: 4, dtype: float64)"
            ]
          },
          "metadata": {
            "tags": []
          },
          "execution_count": 43
        },
        {
          "output_type": "execute_result",
          "data": {
            "text/plain": [
              "(longitude               -118.3600\n",
              " latitude                  33.8200\n",
              " housing_median_age        28.0000\n",
              " total_rooms               67.0000\n",
              " total_bedrooms            15.0000\n",
              " population                49.0000\n",
              " households                11.0000\n",
              " median_income              6.1359\n",
              " median_house_value    330000.0000\n",
              " Name: 3, dtype: float64, longitude              -119.6700\n",
              " latitude                 36.3300\n",
              " housing_median_age       19.0000\n",
              " total_rooms            1241.0000\n",
              " total_bedrooms          244.0000\n",
              " population              850.0000\n",
              " households              237.0000\n",
              " median_income             2.9375\n",
              " median_house_value    81700.0000\n",
              " Name: 4, dtype: float64)"
            ]
          },
          "metadata": {
            "tags": []
          },
          "execution_count": 44
        }
      ]
    },
    {
      "cell_type": "code",
      "metadata": {
        "id": "key7KSgNtaMY",
        "colab_type": "code",
        "colab": {
          "base_uri": "https://localhost:8080/",
          "height": 487
        },
        "outputId": "1634a4fd-2d8c-431a-fcb1-ee231f8732d4"
      },
      "source": [
        "a=DataRead2('/content/sample_data/california_housing_test.csv')\n",
        "a.RowSelect(3,4,5)"
      ],
      "execution_count": 45,
      "outputs": [
        {
          "output_type": "execute_result",
          "data": {
            "text/plain": [
              "(longitude               -118.3600\n",
              " latitude                  33.8200\n",
              " housing_median_age        28.0000\n",
              " total_rooms               67.0000\n",
              " total_bedrooms            15.0000\n",
              " population                49.0000\n",
              " households                11.0000\n",
              " median_income              6.1359\n",
              " median_house_value    330000.0000\n",
              " Name: 3, dtype: float64, longitude              -119.6700\n",
              " latitude                 36.3300\n",
              " housing_median_age       19.0000\n",
              " total_rooms            1241.0000\n",
              " total_bedrooms          244.0000\n",
              " population              850.0000\n",
              " households              237.0000\n",
              " median_income             2.9375\n",
              " median_house_value    81700.0000\n",
              " Name: 4, dtype: float64, longitude              -119.5600\n",
              " latitude                 36.5100\n",
              " housing_median_age       37.0000\n",
              " total_rooms            1018.0000\n",
              " total_bedrooms          213.0000\n",
              " population              663.0000\n",
              " households              204.0000\n",
              " median_income             1.6635\n",
              " median_house_value    67000.0000\n",
              " Name: 5, dtype: float64)"
            ]
          },
          "metadata": {
            "tags": []
          },
          "execution_count": 45
        }
      ]
    },
    {
      "cell_type": "code",
      "metadata": {
        "id": "GOjRu7lKxpFS",
        "colab_type": "code",
        "colab": {
          "base_uri": "https://localhost:8080/",
          "height": 275
        },
        "outputId": "8ceac4e2-449a-43cb-9c43-1870580f5629"
      },
      "source": [
        "b=DataRead2('/content/sample_data/california_housing_test.csv')\n",
        "b.plot()"
      ],
      "execution_count": 46,
      "outputs": [
        {
          "output_type": "display_data",
          "data": {
            "image/png": "[encoded data removed]",
            "text/plain": [
              "<Figure size 288x288 with 1 Axes>"
            ]
          },
          "metadata": {
            "tags": [],
            "needs_background": "light"
          }
        }
      ]
    }
  ]
}