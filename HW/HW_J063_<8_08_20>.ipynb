{
  "nbformat": 4,
  "nbformat_minor": 0,
  "metadata": {
    "colab": {
      "name": "HW_J063_<8/08/20>.ipynb",
      "provenance": [],
      "collapsed_sections": [],
      "authorship_tag": "ABX9TyOm3KHkxbs8nvJUl/pDs0Xs",
      "include_colab_link": true
    },
    "kernelspec": {
      "name": "python3",
      "display_name": "Python 3"
    }
  },
  "cells": [
    {
      "cell_type": "markdown",
      "metadata": {
        "id": "view-in-github",
        "colab_type": "text"
      },
      "source": [
        "<a href=\"https://colab.research.google.com/github/Anoop-mishra63/AI/blob/master/HW/HW_J063_%3C8_08_20%3E.ipynb\" target=\"_parent\"><img src=\"https://colab.research.google.com/assets/colab-badge.svg\" alt=\"Open In Colab\"/></a>"
      ]
    },
    {
      "cell_type": "code",
      "metadata": {
        "id": "9IkleVAR8dlH",
        "colab_type": "code",
        "colab": {}
      },
      "source": [
        "import numpy as np"
      ],
      "execution_count": 1,
      "outputs": []
    },
    {
      "cell_type": "code",
      "metadata": {
        "id": "Gw72grLe9YoG",
        "colab_type": "code",
        "colab": {
          "base_uri": "https://localhost:8080/",
          "height": 85
        },
        "outputId": "7610536c-db6f-4339-9548-d3e5217979f8"
      },
      "source": [
        "n=int(input(\"no. of weights: \"))\n",
        "weight=list(map(int,input(\"Enter the weights\").split()))[:n]\n",
        "val=list(map(int,input(\"Enter values of weight\").split()))[:n]\n",
        "w=int(input(\"enter maximum weight\"))"
      ],
      "execution_count": 9,
      "outputs": [
        {
          "output_type": "stream",
          "text": [
            "no. of weights: 4\n",
            "Enter the weights1 2 3 4\n",
            "Enter values of weight2 4 6 8\n",
            "enter maximum weight40\n"
          ],
          "name": "stdout"
        }
      ]
    },
    {
      "cell_type": "code",
      "metadata": {
        "id": "Zq9AUqC-9bKv",
        "colab_type": "code",
        "colab": {}
      },
      "source": [
        "def knapsack(w, weight, val, n):\n",
        "\n",
        "    m=np.zeros((n+1,w+1))\n",
        "    for i in range(n + 1): \n",
        "      for j in range(w + 1):\n",
        "        if i == 0 or j == 0: \n",
        "          m[i][j] = 0\n",
        "        elif weight[i-1] <= j: \n",
        "          m[i][j] = max(val[i-1]+m[i-1][j-weight[i-1]], m[i-1][j]) \n",
        "        else: \n",
        "           m[i][j] = m[i-1][j] \n",
        "  \n",
        "    return m[n][w]"
      ],
      "execution_count": 10,
      "outputs": []
    },
    {
      "cell_type": "code",
      "metadata": {
        "id": "rpNtmI059dbt",
        "colab_type": "code",
        "colab": {
          "base_uri": "https://localhost:8080/",
          "height": 34
        },
        "outputId": "134eb907-20e0-4387-d9c8-ce23ff89f35b"
      },
      "source": [
        "knapsack(w,weight,val,n)"
      ],
      "execution_count": 11,
      "outputs": [
        {
          "output_type": "execute_result",
          "data": {
            "text/plain": [
              "20.0"
            ]
          },
          "metadata": {
            "tags": []
          },
          "execution_count": 11
        }
      ]
    }
  ]
}