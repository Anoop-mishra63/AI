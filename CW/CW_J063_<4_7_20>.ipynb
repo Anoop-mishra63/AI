{
  "nbformat": 4,
  "nbformat_minor": 0,
  "metadata": {
    "colab": {
      "name": "CW_J063_<4/7/20>.ipynb",
      "provenance": [],
      "collapsed_sections": [],
      "authorship_tag": "ABX9TyMX7+YkYnpn72AYg5lKFIhV",
      "include_colab_link": true
    },
    "kernelspec": {
      "name": "python3",
      "display_name": "Python 3"
    }
  },
  "cells": [
    {
      "cell_type": "markdown",
      "metadata": {
        "id": "view-in-github",
        "colab_type": "text"
      },
      "source": [
        "<a href=\"https://colab.research.google.com/github/Anoop-mishra63/AI/blob/master/CW/CW_J063_%3C4_7_20%3E.ipynb\" target=\"_parent\"><img src=\"https://colab.research.google.com/assets/colab-badge.svg\" alt=\"Open In Colab\"/></a>"
      ]
    },
    {
      "cell_type": "code",
      "metadata": {
        "id": "EAkbChVV4ctr",
        "colab_type": "code",
        "colab": {
          "base_uri": "https://localhost:8080/",
          "height": 50
        },
        "outputId": "eb32b85d-ebd7-4d5d-b493-2ee07db7ec75"
      },
      "source": [
        "#set#numbers and char are not repeated #can add tuple inside a set and cannot add list in set\n",
        "a={1,2,3,4,2,3,\"big\",\"smart\",(1,2,3,'rare'),(1,2,3)}\n",
        "print(a)\n",
        "type(a)"
      ],
      "execution_count": null,
      "outputs": [
        {
          "output_type": "stream",
          "text": [
            "{1, 2, 3, 4, (1, 2, 3), (1, 2, 3, 'rare'), 'smart', 'big'}\n"
          ],
          "name": "stdout"
        },
        {
          "output_type": "execute_result",
          "data": {
            "text/plain": [
              "set"
            ]
          },
          "metadata": {
            "tags": []
          },
          "execution_count": 18
        }
      ]
    },
    {
      "cell_type": "code",
      "metadata": {
        "id": "DjLgGS4pSoy-",
        "colab_type": "code",
        "colab": {
          "base_uri": "https://localhost:8080/",
          "height": 34
        },
        "outputId": "af04080a-b662-4d46-a47a-2f626f6339ae"
      },
      "source": [
        "b={-1,7,3,4,5}\n",
        "b.pop()\n",
        "print(b)"
      ],
      "execution_count": null,
      "outputs": [
        {
          "output_type": "stream",
          "text": [
            "{4, 5, 7, -1}\n"
          ],
          "name": "stdout"
        }
      ]
    }
  ]
}