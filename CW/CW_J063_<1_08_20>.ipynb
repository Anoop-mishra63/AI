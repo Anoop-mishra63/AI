{
  "nbformat": 4,
  "nbformat_minor": 0,
  "metadata": {
    "colab": {
      "name": "CW_J063_<1/08/20>.ipynb",
      "provenance": [],
      "collapsed_sections": [],
      "authorship_tag": "ABX9TyNjxGUBsx6VDZU2D4kuTSsK",
      "include_colab_link": true
    },
    "kernelspec": {
      "name": "python3",
      "display_name": "Python 3"
    }
  },
  "cells": [
    {
      "cell_type": "markdown",
      "metadata": {
        "id": "view-in-github",
        "colab_type": "text"
      },
      "source": [
        "<a href=\"https://colab.research.google.com/github/Anoop-mishra63/AI/blob/master/CW/CW_J063_%3C1_08_20%3E.ipynb\" target=\"_parent\"><img src=\"https://colab.research.google.com/assets/colab-badge.svg\" alt=\"Open In Colab\"/></a>"
      ]
    },
    {
      "cell_type": "code",
      "metadata": {
        "id": "inEFj44g5gy6",
        "colab_type": "code",
        "colab": {}
      },
      "source": [
        "# Calculating 7!\n",
        "#\n",
        "def factorial_recursion(n):\n",
        "    factor=1\n",
        "    if (n==0):\n",
        "        return factor\n",
        "    else:\n",
        "        return n*factorial_recursion(n-1)\n",
        "\n",
        "def factorial_simpl(n):\n",
        "    factor=1\n",
        "    for i in range(1,n+1):\n",
        "        factor=factor*i\n",
        "    return factor\n",
        "\n"
      ],
      "execution_count": null,
      "outputs": []
    },
    {
      "cell_type": "code",
      "metadata": {
        "id": "jcobb6U39tUz",
        "colab_type": "code",
        "colab": {}
      },
      "source": [
        "def fibo_1(n):\n",
        "  #n: whole number\n",
        "  #returns the n+1th number\n",
        "  if n==0 or n==1:\n",
        "    return n\n",
        "  else :\n",
        "    return fibo_1(n-1)+fibo_1(n-2)"
      ],
      "execution_count": null,
      "outputs": []
    },
    {
      "cell_type": "code",
      "metadata": {
        "id": "siwHaPRY6y9q",
        "colab_type": "code",
        "colab": {
          "base_uri": "https://localhost:8080/",
          "height": 34
        },
        "outputId": "8c5c4652-31e2-4844-cb6c-92ecdd743a9a"
      },
      "source": [
        "fibo_1(6)"
      ],
      "execution_count": null,
      "outputs": [
        {
          "output_type": "execute_result",
          "data": {
            "text/plain": [
              "8"
            ]
          },
          "metadata": {
            "tags": []
          },
          "execution_count": 2
        }
      ]
    },
    {
      "cell_type": "code",
      "metadata": {
        "id": "BhGYDo1iVoFP",
        "colab_type": "code",
        "colab": {}
      },
      "source": [
        "#Binary Search\n",
        "list=[1,2,3,4,5,6,7,8,9,32,12,33,22,54,23,87]\n"
      ],
      "execution_count": null,
      "outputs": []
    },
    {
      "cell_type": "code",
      "metadata": {
        "id": "R1xHjRdhWWpW",
        "colab_type": "code",
        "colab": {}
      },
      "source": [
        "list1=list.copy().sort()"
      ],
      "execution_count": null,
      "outputs": []
    },
    {
      "cell_type": "code",
      "metadata": {
        "id": "a1441Xk5WvFL",
        "colab_type": "code",
        "colab": {
          "base_uri": "https://localhost:8080/",
          "height": 34
        },
        "outputId": "93318117-3637-4976-e70a-30027c0c9206"
      },
      "source": [
        "print(list1)"
      ],
      "execution_count": null,
      "outputs": [
        {
          "output_type": "stream",
          "text": [
            "None\n"
          ],
          "name": "stdout"
        }
      ]
    },
    {
      "cell_type": "markdown",
      "metadata": {
        "id": "wSyzOfM-aDk2",
        "colab_type": "text"
      },
      "source": [
        "#Tractable-PTIME(Polynomial Time Solvable)\n",
        "#Polynomial-expression where each term is n^k where k can be any whole number\n",
        "#Polynomial Time-runtime of the code or solution should be a polynomial\n",
        "#n : input input space or dimension\n",
        "eg O(n^4)\n",
        "n=1 =>1\n",
        "n=2 =>2^4"
      ]
    },
    {
      "cell_type": "code",
      "metadata": {
        "id": "aiKKO37KZ-Te",
        "colab_type": "code",
        "colab": {}
      },
      "source": [
        " Fibonacci\n",
        "#0112358\n",
        "# Property\n",
        "# Base Case - sum(0,1)\n",
        "# nth number is sum of previous two numbers num(n)=sum(num(n-1),num(n-2))\n",
        "\n",
        "def fibo_simpl(n):\n",
        "    #Function to calculate nth Fibonacci Number\n",
        "    fibo=[]\n",
        "    #count=0\n",
        "    fibo[0],fibo[1]=0,1\n",
        "    for i in range(2,n+1):\n",
        "        fibo[i]=fibo[i-1]+fibo[i-2]\n",
        "    return fibo[n]\n",
        "\n",
        "\n",
        "\n",
        "    # if n==1:\n",
        "    #     print(0)\n",
        "    # elif n==2:\n",
        "    #     print(1)\n",
        "    # else :\n",
        "    #    while count <n:\n",
        "    #        print(fibo[0]) \n",
        "    #        n1=fibo[0]+fibo[1]\n",
        "    #        fibo[0]=fibo[1]\n",
        "    #        fibo[1]=n1\n",
        "    #        count=count+1\n",
        "       # for num in range (2,n):\n",
        "       #     return fibo(n-1)+fibo(n-2)\n"
      ],
      "execution_count": null,
      "outputs": []
    },
    {
      "cell_type": "code",
      "metadata": {
        "id": "-9KTqbos90D3",
        "colab_type": "code",
        "colab": {}
      },
      "source": [
        ""
      ],
      "execution_count": null,
      "outputs": []
    }
  ]
}