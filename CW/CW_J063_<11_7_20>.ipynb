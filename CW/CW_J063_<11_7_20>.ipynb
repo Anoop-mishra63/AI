{
  "nbformat": 4,
  "nbformat_minor": 0,
  "metadata": {
    "colab": {
      "name": "CW_J063_<11/7/20>.ipynb",
      "provenance": [],
      "authorship_tag": "ABX9TyOZx2+gYNrXtBQE8gUQ0pCz",
      "include_colab_link": true
    },
    "kernelspec": {
      "name": "python3",
      "display_name": "Python 3"
    }
  },
  "cells": [
    {
      "cell_type": "markdown",
      "metadata": {
        "id": "view-in-github",
        "colab_type": "text"
      },
      "source": [
        "<a href=\"https://colab.research.google.com/github/Anoop-mishra63/AI/blob/master/CW/CW_J063_%3C11_7_20%3E.ipynb\" target=\"_parent\"><img src=\"https://colab.research.google.com/assets/colab-badge.svg\" alt=\"Open In Colab\"/></a>"
      ]
    },
    {
      "cell_type": "code",
      "metadata": {
        "id": "KIcsiSLmyhZF",
        "colab_type": "code",
        "colab": {
          "base_uri": "https://localhost:8080/",
          "height": 34
        },
        "outputId": "7f86c3d2-2afd-4d49-da51-b572f362fb57"
      },
      "source": [
        "## Few indentation parts are handled automatically by colab\n",
        "## to remove a single variable from environment use (del variable name)  command\n",
        "int('111',3)  ##"
      ],
      "execution_count": 1,
      "outputs": [
        {
          "output_type": "execute_result",
          "data": {
            "text/plain": [
              "13"
            ]
          },
          "metadata": {
            "tags": []
          },
          "execution_count": 1
        }
      ]
    },
    {
      "cell_type": "code",
      "metadata": {
        "id": "U7vH5174BQBW",
        "colab_type": "code",
        "colab": {
          "base_uri": "https://localhost:8080/",
          "height": 35
        },
        "outputId": "ef757202-a530-4680-b54d-5b1a3c8f8a03"
      },
      "source": [
        "str(float(int('111',3)))"
      ],
      "execution_count": 2,
      "outputs": [
        {
          "output_type": "execute_result",
          "data": {
            "application/vnd.google.colaboratory.intrinsic": {
              "type": "string"
            },
            "text/plain": [
              "'13.0'"
            ]
          },
          "metadata": {
            "tags": []
          },
          "execution_count": 2
        }
      ]
    },
    {
      "cell_type": "code",
      "metadata": {
        "id": "FdgQJvmXCNXQ",
        "colab_type": "code",
        "colab": {
          "base_uri": "https://localhost:8080/",
          "height": 34
        },
        "outputId": "55fb7f41-6d43-49aa-a976-045002352f15"
      },
      "source": [
        "type('111')"
      ],
      "execution_count": 3,
      "outputs": [
        {
          "output_type": "execute_result",
          "data": {
            "text/plain": [
              "str"
            ]
          },
          "metadata": {
            "tags": []
          },
          "execution_count": 3
        }
      ]
    },
    {
      "cell_type": "code",
      "metadata": {
        "id": "xOfoTRssCrH0",
        "colab_type": "code",
        "colab": {
          "base_uri": "https://localhost:8080/",
          "height": 128
        },
        "outputId": "a912beb5-11fb-4acb-e68b-4cd9c2ec802e"
      },
      "source": [
        "def sum():\n",
        "  a='gyuguyuyu\n",
        "  ihoihoih'    \n",
        "  ## error u would face is EOL-end of line  ### Find out traceback"
      ],
      "execution_count": 4,
      "outputs": [
        {
          "output_type": "error",
          "ename": "SyntaxError",
          "evalue": "ignored",
          "traceback": [
            "\u001b[0;36m  File \u001b[0;32m\"<ipython-input-4-9f74904ab3bd>\"\u001b[0;36m, line \u001b[0;32m2\u001b[0m\n\u001b[0;31m    a='gyuguyuyu\u001b[0m\n\u001b[0m                ^\u001b[0m\n\u001b[0;31mSyntaxError\u001b[0m\u001b[0;31m:\u001b[0m EOL while scanning string literal\n"
          ]
        }
      ]
    },
    {
      "cell_type": "code",
      "metadata": {
        "id": "uI-aRueaDfgx",
        "colab_type": "code",
        "colab": {}
      },
      "source": [
        "a_=4    ## for using reserve keywords\n",
        "__a__=5\n",
        "a=6\n",
        "_a=9  ##variable is intended for internal use (private variables)\n",
        "__a=91"
      ],
      "execution_count": 6,
      "outputs": []
    },
    {
      "cell_type": "code",
      "metadata": {
        "id": "DatWac_LIFwu",
        "colab_type": "code",
        "colab": {}
      },
      "source": [
        "##public variable vs private\n",
        "  class human:\n",
        "## compositions of class\n",
        "   ##1)attributes- variables-compulsory\n",
        "   ##2)method/behaviour - functions-compulsory\n",
        "   ##3)\n",
        "##when we initiate a class \n",
        "## Object is an instance of a class\n",
        "  \n"
      ],
      "execution_count": null,
      "outputs": []
    },
    {
      "cell_type": "code",
      "metadata": {
        "id": "xqLBFCe5Ron3",
        "colab_type": "code",
        "colab": {
          "base_uri": "https://localhost:8080/",
          "height": 212
        },
        "outputId": "4f3f58f6-894f-4959-9581-2447a846416b"
      },
      "source": [
        "class Student: \n",
        "\n",
        "    def __init__(self, name): ##instantiates the object ##self is a keyword over here\n",
        "\n",
        "        self.__name = name \n",
        "\n",
        "  \n",
        "\n",
        "    def displayName(self): \n",
        "\n",
        "        print(self.__name) \n",
        "\n",
        "  \n",
        "\n",
        "s1 = Student(\"Santhosh\") \n",
        "\n",
        "s1.displayName() \n",
        "\n",
        "  \n",
        "\n",
        "# Raises an error \n",
        "\n",
        "print(s1.__name)"
      ],
      "execution_count": 7,
      "outputs": [
        {
          "output_type": "stream",
          "text": [
            "Santhosh\n"
          ],
          "name": "stdout"
        },
        {
          "output_type": "error",
          "ename": "AttributeError",
          "evalue": "ignored",
          "traceback": [
            "\u001b[0;31m---------------------------------------------------------------------------\u001b[0m",
            "\u001b[0;31mAttributeError\u001b[0m                            Traceback (most recent call last)",
            "\u001b[0;32m<ipython-input-7-23cdf8be9371>\u001b[0m in \u001b[0;36m<module>\u001b[0;34m()\u001b[0m\n\u001b[1;32m     21\u001b[0m \u001b[0;31m# Raises an error\u001b[0m\u001b[0;34m\u001b[0m\u001b[0;34m\u001b[0m\u001b[0;34m\u001b[0m\u001b[0m\n\u001b[1;32m     22\u001b[0m \u001b[0;34m\u001b[0m\u001b[0m\n\u001b[0;32m---> 23\u001b[0;31m \u001b[0mprint\u001b[0m\u001b[0;34m(\u001b[0m\u001b[0ms1\u001b[0m\u001b[0;34m.\u001b[0m\u001b[0m__name\u001b[0m\u001b[0;34m)\u001b[0m\u001b[0;34m\u001b[0m\u001b[0;34m\u001b[0m\u001b[0m\n\u001b[0m",
            "\u001b[0;31mAttributeError\u001b[0m: 'Student' object has no attribute '__name'"
          ]
        }
      ]
    },
    {
      "cell_type": "code",
      "metadata": {
        "id": "MTFSSctBSGfb",
        "colab_type": "code",
        "colab": {
          "base_uri": "https://localhost:8080/",
          "height": 487
        },
        "outputId": "88792517-b7bc-4ecc-fb09-21972baa2053"
      },
      "source": [
        "dir(s1) ##'dir' lists the properties and methods"
      ],
      "execution_count": 10,
      "outputs": [
        {
          "output_type": "execute_result",
          "data": {
            "text/plain": [
              "['_Student__name',\n",
              " '__class__',\n",
              " '__delattr__',\n",
              " '__dict__',\n",
              " '__dir__',\n",
              " '__doc__',\n",
              " '__eq__',\n",
              " '__format__',\n",
              " '__ge__',\n",
              " '__getattribute__',\n",
              " '__gt__',\n",
              " '__hash__',\n",
              " '__init__',\n",
              " '__init_subclass__',\n",
              " '__le__',\n",
              " '__lt__',\n",
              " '__module__',\n",
              " '__ne__',\n",
              " '__new__',\n",
              " '__reduce__',\n",
              " '__reduce_ex__',\n",
              " '__repr__',\n",
              " '__setattr__',\n",
              " '__sizeof__',\n",
              " '__str__',\n",
              " '__subclasshook__',\n",
              " '__weakref__',\n",
              " 'displayName']"
            ]
          },
          "metadata": {
            "tags": []
          },
          "execution_count": 10
        }
      ]
    }
  ]
}