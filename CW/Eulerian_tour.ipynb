{
  "nbformat": 4,
  "nbformat_minor": 0,
  "metadata": {
    "colab": {
      "name": "Eulerian_tour.ipynb",
      "provenance": [],
      "collapsed_sections": [],
      "authorship_tag": "ABX9TyMybwToTVgifcyZEvhlIQ0c",
      "include_colab_link": true
    },
    "kernelspec": {
      "name": "python3",
      "display_name": "Python 3"
    }
  },
  "cells": [
    {
      "cell_type": "markdown",
      "metadata": {
        "id": "view-in-github",
        "colab_type": "text"
      },
      "source": [
        "<a href=\"https://colab.research.google.com/github/Anoop-mishra63/AI/blob/master/CW/Eulerian_tour.ipynb\" target=\"_parent\"><img src=\"https://colab.research.google.com/assets/colab-badge.svg\" alt=\"Open In Colab\"/></a>"
      ]
    },
    {
      "cell_type": "code",
      "metadata": {
        "id": "1oNvntJuPXgZ",
        "colab_type": "code",
        "colab": {}
      },
      "source": [
        "# Python program to check if a given graph is Eulerian or not \n",
        "#Complexity : O(V+E) \n",
        "   \n",
        "from collections import defaultdict "
      ],
      "execution_count": 1,
      "outputs": []
    },
    {
      "cell_type": "code",
      "metadata": {
        "id": "RCirGWb0Phzt",
        "colab_type": "code",
        "colab": {}
      },
      "source": [
        "#This class represents a undirected graph using adjacency list representation \n",
        "class Graph: \n",
        "   \n",
        "    def __init__(self,vertices): \n",
        "        self.V= vertices #No. of vertices \n",
        "        self.graph = defaultdict(list) # default dictionary to store graph \n",
        "   \n",
        "    # function to add an edge to graph \n",
        "    def addEdge(self,u,v): \n",
        "        self.graph[u].append(v) \n",
        "        self.graph[v].append(u) \n",
        "   \n",
        "    #A function used by isConnected \n",
        "    def DFSUtil(self,v,visited): \n",
        "        # Mark the current node as visited  \n",
        "        visited[v]= True\n",
        "  \n",
        "        #Recur for all the vertices adjacent to this vertex \n",
        "        for i in self.graph[v]: \n",
        "            if visited[i]==False: \n",
        "                self.DFSUtil(i,visited) \n",
        "   \n",
        "   \n",
        "    '''Method to check if all non-zero degree vertices are \n",
        "    connected. It mainly does DFS traversal starting from  \n",
        "    node with non-zero degree'''\n",
        "    def isConnected(self): \n",
        "   \n",
        "        # Mark all the vertices as not visited \n",
        "        visited =[False]*(self.V) \n",
        "  \n",
        "        #  Find a vertex with non-zero degree \n",
        "        for i in range(self.V): \n",
        "            if len(self.graph[i]) > 1: \n",
        "                break\n",
        "  \n",
        "        # If there are no edges in the graph, return true \n",
        "        if i == self.V-1: \n",
        "            return True\n",
        "  \n",
        "        # Start DFS traversal from a vertex with non-zero degree \n",
        "        self.DFSUtil(i,visited) \n",
        "  \n",
        "        # Check if all non-zero degree vertices are visited \n",
        "        for i in range(self.V): \n",
        "            if visited[i]==False and len(self.graph[i]) > 0: \n",
        "                return False\n",
        "          \n",
        "        return True\n",
        "  \n",
        "  \n",
        "    '''The function returns one of the following values \n",
        "       0 --> If grpah is not Eulerian \n",
        "       1 --> If graph has an Euler path (Semi-Eulerian) \n",
        "       2 --> If graph has an Euler Circuit (Eulerian)  '''\n",
        "    def isEulerian(self): \n",
        "        # Check if all non-zero degree vertices are connected \n",
        "        if self.isConnected() == False: \n",
        "            return 0\n",
        "        else: \n",
        "            #Count vertices with odd degree \n",
        "            odd = 0\n",
        "            for i in range(self.V): \n",
        "                if len(self.graph[i]) % 2 !=0: \n",
        "                    odd +=1\n",
        "  \n",
        "            '''If odd count is 2, then semi-eulerian. \n",
        "            If odd count is 0, then eulerian \n",
        "            If count is more than 2, then graph is not Eulerian \n",
        "            Note that odd count can never be 1 for undirected graph'''\n",
        "            if odd == 0: \n",
        "                return 2\n",
        "            elif odd == 2: \n",
        "                return 1\n",
        "            elif odd > 2: \n",
        "                return 0\n",
        "  \n",
        "  \n",
        "     # Function to run test cases \n",
        "    def test(self): \n",
        "      res = self.isEulerian() \n",
        "      if res == 0:\n",
        "        print(\"graph is not Eulerian\")\n",
        "      elif res ==1 : \n",
        "        print(\"graph has a Euler path\")\n",
        "      else: \n",
        "        print(\"graph has a Euler cycle\")\n",
        "    \n",
        "\n",
        "  \n",
        "     "
      ],
      "execution_count": 18,
      "outputs": []
    },
    {
      "cell_type": "code",
      "metadata": {
        "id": "KSDn1Cw3RyC3",
        "colab_type": "code",
        "colab": {
          "base_uri": "https://localhost:8080/",
          "height": 34
        },
        "outputId": "d83b16a7-282d-46d6-bb43-b9f961ded8de"
      },
      "source": [
        "g1=Graph(5); \n",
        "g1.addEdge(1, 0) \n",
        "g1.addEdge(0, 2) \n",
        "g1.addEdge(2, 1) \n",
        "g1.addEdge(0, 3) \n",
        "g1.addEdge(3, 4) \n",
        "g1.test() "
      ],
      "execution_count": 19,
      "outputs": [
        {
          "output_type": "stream",
          "text": [
            "graph has a Euler path\n"
          ],
          "name": "stdout"
        }
      ]
    },
    {
      "cell_type": "code",
      "metadata": {
        "id": "OWBHef5bTfCG",
        "colab_type": "code",
        "colab": {
          "base_uri": "https://localhost:8080/",
          "height": 34
        },
        "outputId": "e5ee5919-697f-4bfe-b16a-c16da1ed7090"
      },
      "source": [
        "g2 = Graph(5) \n",
        "g2.addEdge(1, 0) \n",
        "g2.addEdge(0, 2) \n",
        "g2.addEdge(2, 1) \n",
        "g2.addEdge(0, 3) \n",
        "g2.addEdge(3, 4) \n",
        "g2.addEdge(4, 0) \n",
        "g2.test()"
      ],
      "execution_count": 21,
      "outputs": [
        {
          "output_type": "stream",
          "text": [
            "graph has a Euler cycle\n"
          ],
          "name": "stdout"
        }
      ]
    },
    {
      "cell_type": "code",
      "metadata": {
        "id": "EZoFcB4PTn1q",
        "colab_type": "code",
        "colab": {
          "base_uri": "https://localhost:8080/",
          "height": 34
        },
        "outputId": "62f6bde4-6397-45e6-d80b-393c3368ac71"
      },
      "source": [
        "g3 = Graph(5) \n",
        "g3.addEdge(1, 0) \n",
        "g3.addEdge(0, 2) \n",
        "g3.addEdge(2, 1) \n",
        "g3.addEdge(0, 3) \n",
        "g3.addEdge(3, 4) \n",
        "g3.addEdge(1, 3) \n",
        "g3.test()"
      ],
      "execution_count": 23,
      "outputs": [
        {
          "output_type": "stream",
          "text": [
            "graph is not Eulerian\n"
          ],
          "name": "stdout"
        }
      ]
    },
    {
      "cell_type": "code",
      "metadata": {
        "id": "M7pO9LOeTu_u",
        "colab_type": "code",
        "colab": {
          "base_uri": "https://localhost:8080/",
          "height": 34
        },
        "outputId": "9273c6ca-52e9-45b0-ae5a-14a41aaa172e"
      },
      "source": [
        "#Let us create a graph with 3 vertices \n",
        "# connected in the form of cycle \n",
        "g4 = Graph(3) \n",
        "g4.addEdge(0, 1) \n",
        "g4.addEdge(1, 2) \n",
        "g4.addEdge(2, 0) \n",
        "g4.test()"
      ],
      "execution_count": 25,
      "outputs": [
        {
          "output_type": "stream",
          "text": [
            "graph has a Euler cycle\n"
          ],
          "name": "stdout"
        }
      ]
    },
    {
      "cell_type": "code",
      "metadata": {
        "id": "yers3N7sT0U3",
        "colab_type": "code",
        "colab": {
          "base_uri": "https://localhost:8080/",
          "height": 34
        },
        "outputId": "323938be-ef4f-4806-c9b2-a3ccd315047c"
      },
      "source": [
        "# Let us create a graph with all veritces \n",
        "# with zero degree \n",
        "g5 = Graph(3) \n",
        "g5.test()"
      ],
      "execution_count": 26,
      "outputs": [
        {
          "output_type": "stream",
          "text": [
            "graph has a Euler cycle\n"
          ],
          "name": "stdout"
        }
      ]
    }
  ]
}